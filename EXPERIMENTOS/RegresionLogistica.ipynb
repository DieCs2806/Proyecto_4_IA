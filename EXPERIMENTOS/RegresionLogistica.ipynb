{
  "nbformat": 4,
  "nbformat_minor": 0,
  "metadata": {
    "colab": {
      "provenance": []
    },
    "kernelspec": {
      "name": "python3",
      "display_name": "Python 3"
    },
    "language_info": {
      "name": "python"
    }
  },
  "cells": [
    {
      "cell_type": "markdown",
      "source": [
        "# Train - Test"
      ],
      "metadata": {
        "id": "MzDDgFwWafGB"
      }
    },
    {
      "cell_type": "code",
      "execution_count": null,
      "metadata": {
        "id": "SFN-xGaCZHpv"
      },
      "outputs": [],
      "source": [
        "import pandas as pd\n",
        "import numpy as np\n",
        "import matplotlib.pyplot as plt\n",
        "import seaborn as sns"
      ]
    },
    {
      "cell_type": "code",
      "source": [
        "from sklearn.model_selection import train_test_split\n",
        "\n",
        "df = pd.read_csv('test_estandarizado.csv')\n",
        "\n",
        "y = df['ParentSupport']\n",
        "X = df.drop(columns = ['ParentSupport'])\n",
        "\n",
        "# División 80% entrenamiento, 20% prueba\n",
        "X_train, X_test, Y_train, Y_test = train_test_split(X, y, test_size=0.2, random_state=42)\n",
        "X_train, X_val, Y_train, Y_val = train_test_split(X_train, Y_train, test_size=0.2, random_state=42)\n",
        "\n",
        "print(\"Tamaño de X_train:\", len(X_train))\n",
        "print(\"Tamaño de X_val:\", len(X_val))\n",
        "print(\"Tamaño de X_test:\", len(X_test))"
      ],
      "metadata": {
        "colab": {
          "base_uri": "https://localhost:8080/"
        },
        "id": "z75O4SwWask6",
        "outputId": "af080501-b635-4b25-abbb-abe917426800"
      },
      "execution_count": null,
      "outputs": [
        {
          "output_type": "stream",
          "name": "stdout",
          "text": [
            "Tamaño de X_train: 493039\n",
            "Tamaño de X_val: 123260\n",
            "Tamaño de X_test: 154075\n"
          ]
        }
      ]
    },
    {
      "cell_type": "code",
      "source": [
        "X_train.to_csv(\"X_train.csv\", index=False)\n",
        "Y_train.to_csv(\"Y_train.csv\", index=False)\n",
        "X_val.to_csv(\"X_val.csv\", index=False)\n",
        "Y_val.to_csv(\"Y_val.csv\", index=False)\n",
        "X_test.to_csv(\"X_test.csv\", index=False)\n",
        "Y_test.to_csv(\"Y_test.csv\", index=False)"
      ],
      "metadata": {
        "id": "KX6g6osvoqoM"
      },
      "execution_count": null,
      "outputs": []
    },
    {
      "cell_type": "code",
      "source": [
        "from sklearn.linear_model import LogisticRegression\n",
        "clf = LogisticRegression(random_state=0, max_iter=1000).fit(X_train, Y_train)\n",
        "clf.predict(X.iloc[:2, :])\n",
        "clf.predict_proba(X.iloc[:2, :])\n",
        "clf.score(X_test, Y_test)"
      ],
      "metadata": {
        "colab": {
          "base_uri": "https://localhost:8080/"
        },
        "id": "dPkTAsOD05JN",
        "outputId": "60e4e3e4-ea32-49c6-ec1d-79273d9d516a"
      },
      "execution_count": null,
      "outputs": [
        {
          "output_type": "execute_result",
          "data": {
            "text/plain": [
              "0.6329320136297257"
            ]
          },
          "metadata": {},
          "execution_count": 16
        }
      ]
    },
    {
      "cell_type": "code",
      "source": [
        "# --- FORMA CORRECTA ---\n",
        "\n",
        "# 1. Crear el modelo\n",
        "clf = LogisticRegression(random_state=0, max_iter=1000)\n",
        "\n",
        "# 2. Entrenar el modelo SOLAMENTE con los datos de entrenamiento\n",
        "clf.fit(X_train, Y_train)\n",
        "\n",
        "# 3. Evaluar el modelo SOLAMENTE con los datos de prueba (datos que NUNCA ha visto)\n",
        "score_de_prueba = clf.score(X_test, Y_test)\n",
        "\n"
      ],
      "metadata": {
        "id": "cUaU4tP6axWR"
      },
      "execution_count": null,
      "outputs": []
    },
    {
      "cell_type": "markdown",
      "source": [
        "**Este resultado significa la precisión del modelo, es decir, el 63% de las veces el modelo podrá predecir acertadamente la variable \"ParentSupport\" habiendo sido entrenado con todos los datos**"
      ],
      "metadata": {
        "id": "exmtFHSIaZg6"
      }
    },
    {
      "cell_type": "code",
      "source": [],
      "metadata": {
        "id": "ONUvXSsmagg7"
      },
      "execution_count": null,
      "outputs": []
    }
  ]
}