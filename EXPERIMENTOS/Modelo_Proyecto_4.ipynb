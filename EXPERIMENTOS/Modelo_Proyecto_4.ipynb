{
  "nbformat": 4,
  "nbformat_minor": 0,
  "metadata": {
    "colab": {
      "provenance": []
    },
    "kernelspec": {
      "name": "python3",
      "display_name": "Python 3"
    },
    "language_info": {
      "name": "python"
    }
  },
  "cells": [
    {
      "cell_type": "markdown",
      "source": [],
      "metadata": {
        "id": "VGwSh01I1otP"
      }
    },
    {
      "cell_type": "code",
      "source": [
        "import pandas as pd\n",
        "import numpy as np\n",
        "import matplotlib.pyplot as plt\n",
        "import seaborn as sns\n",
        "import joblib\n",
        "from sklearn.model_selection import train_test_split\n",
        "from sklearn.ensemble import RandomForestRegressor\n",
        "from sklearn.metrics import mean_squared_error, r2_score"
      ],
      "metadata": {
        "id": "ng5_S2s11cmx"
      },
      "execution_count": 25,
      "outputs": []
    },
    {
      "cell_type": "code",
      "source": [
        "df = pd.read_csv(\"test_estandarizado_percentiles.csv\")\n",
        "target = \"TestScore_Math\""
      ],
      "metadata": {
        "id": "1cukBeuq1qo-"
      },
      "execution_count": 26,
      "outputs": []
    },
    {
      "cell_type": "code",
      "source": [
        "\n",
        "y = df[target]\n",
        "x = df.drop(columns = [target])\n",
        "\n",
        "\n",
        "x_train_val, x_test, y_train_val, y_test = train_test_split(x,y, test_size = 0.2, random_state = 42)\n",
        "\n",
        "x_train, x_val, y_train, y_val = train_test_split(x_train_val,y_train_val, test_size = 0.2, random_state = 42)\n",
        "\n",
        "\n",
        "print(f\"Train : {len(x_train_val)}\")\n",
        "print(f\"Validation : {len(x_val)}\")\n",
        "print(f\"Test : {len(x_test)}\")"
      ],
      "metadata": {
        "colab": {
          "base_uri": "https://localhost:8080/"
        },
        "id": "vs_YlVDy180_",
        "outputId": "20940d02-6f46-4885-d1a1-223eb16dacfc"
      },
      "execution_count": 33,
      "outputs": [
        {
          "output_type": "stream",
          "name": "stdout",
          "text": [
            "Train : 799997\n",
            "Validation : 160000\n",
            "Test : 200000\n"
          ]
        }
      ]
    },
    {
      "cell_type": "code",
      "source": [
        "x_train.to_csv(\"X_train.csv\", index=False)\n",
        "y_train.to_csv(\"Y_train.csv\", index=False)\n",
        "x_val.to_csv(\"X_val.csv\", index=False)\n",
        "y_val.to_csv(\"Y_val.csv\", index=False)\n",
        "x_test.to_csv(\"X_test.csv\", index=False)\n",
        "y_test.to_csv(\"Y_test.csv\", index=False)\n",
        "\n"
      ],
      "metadata": {
        "id": "DSaxyfUT42hF"
      },
      "execution_count": 34,
      "outputs": []
    },
    {
      "cell_type": "code",
      "source": [
        "trainX = pd.read_csv(\"X_train.csv\")\n",
        "trainY = np.ravel(pd.read_csv(\"Y_train.csv\"))\n",
        "testX = pd.read_csv(\"X_test.csv\")\n",
        "testY = np.ravel(pd.read_csv(\"Y_test.csv\"))\n",
        "valX = pd.read_csv(\"X_val.csv\")\n",
        "valY = np.ravel(pd.read_csv(\"Y_val.csv\"))"
      ],
      "metadata": {
        "id": "5FqITNQZ5Z9K"
      },
      "execution_count": 35,
      "outputs": []
    },
    {
      "cell_type": "code",
      "source": [
        "train_sample = trainX.sample(frac=0.1, random_state=42)\n",
        "trainY_sample = trainY[:len(train_sample)]\n",
        "\n",
        "if \"PercentileRange\" in train_sample.columns:\n",
        "    train_sample = train_sample.drop(columns=[\"PercentileRange\"])\n",
        "    valX = valX.drop(columns=[\"PercentileRange\"])\n"
      ],
      "metadata": {
        "id": "yad8uLV1BSFg"
      },
      "execution_count": 36,
      "outputs": []
    },
    {
      "cell_type": "code",
      "source": [
        "results = []\n",
        "n_estimators_values = [50,100]\n",
        "max_depth_values = [5,10]\n",
        "min_samples_split_values = [2,5]"
      ],
      "metadata": {
        "id": "Dl-TqjiRtIDv"
      },
      "execution_count": 37,
      "outputs": []
    },
    {
      "cell_type": "code",
      "source": [
        "\n",
        "for n_estimators in n_estimators_values:\n",
        "    for max_depth in max_depth_values:\n",
        "        for min_samples_split in min_samples_split_values:\n",
        "\n",
        "            model = RandomForestRegressor(\n",
        "                n_estimators=n_estimators,\n",
        "                max_depth=max_depth,\n",
        "                min_samples_split=min_samples_split,\n",
        "                random_state=42,\n",
        "                n_jobs=-1  )\n",
        "\n",
        "\n",
        "            model.fit(train_sample, trainY_sample)\n",
        "            val_pred = model.predict(valX)\n",
        "            mse = mean_squared_error(valY, val_pred)\n",
        "            r2 = r2_score(valY, val_pred)\n",
        "\n",
        "            results.append({\n",
        "                \"n_estimators\": n_estimators,\n",
        "                \"max_depth\": max_depth,\n",
        "                \"min_samples_split\": min_samples_split,\n",
        "                \"MSE\": mse,\n",
        "                \"R2\": r2\n",
        "            })\n",
        "\n",
        "results_df = pd.DataFrame(results)\n",
        "print(results_df.sort_values(by=\"R2\", ascending=False))"
      ],
      "metadata": {
        "id": "6FDav8oa8-BG",
        "colab": {
          "base_uri": "https://localhost:8080/"
        },
        "outputId": "0fd9b10b-f679-467e-a090-ec4c66c67de8"
      },
      "execution_count": 38,
      "outputs": [
        {
          "output_type": "stream",
          "name": "stdout",
          "text": [
            "   n_estimators  max_depth  min_samples_split        MSE        R2\n",
            "0            50          5                  2  98.025817  0.006016\n",
            "1            50          5                  5  98.027839  0.005995\n",
            "3            50         10                  5  98.200424  0.004245\n",
            "2            50         10                  2  98.215591  0.004092\n",
            "4           100          5                  2  98.223889  0.004007\n",
            "5           100          5                  5  98.227461  0.003971\n",
            "7           100         10                  5  98.347262  0.002756\n",
            "6           100         10                  2  98.358120  0.002646\n"
          ]
        }
      ]
    }
  ]
}